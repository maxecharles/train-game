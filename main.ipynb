{
 "cells": [
  {
   "cell_type": "markdown",
   "source": [
    "((a op b) op c) op d\n",
    "(a op b) op (c op d)\n",
    "(a op (b op c)) op d\n",
    "a op ((b op c) op d)\n",
    "a op (b op (c op d))"
   ],
   "metadata": {
    "collapsed": false
   }
  },
  {
   "cell_type": "code",
   "execution_count": 56,
   "outputs": [],
   "source": [
    "class Number:\n",
    "\n",
    "    \"\"\"A class to represent a 4 digit number to help solve the make 10 train game.\n",
    "\n",
    "    Attributes:\n",
    "        n_solns (int): The number of solutions.\n",
    "        solns (list): A list of the solutions.\n",
    "\n",
    "    Methods:\n",
    "        show_solns: Prints the solutions.\n",
    "    \"\"\"\n",
    "\n",
    "    def __init__(self, n: str):\n",
    "\n",
    "        # initialising solution count and list\n",
    "        self.n_solns = 0\n",
    "        self.solns = []\n",
    "\n",
    "        # converting to list of ints\n",
    "        n = list(n)\n",
    "        if len(n) != 4: raise ValueError('Number must be 4 digits long.') # checking correct format\n",
    "        a = int(n[0])\n",
    "        b = int(n[1])\n",
    "        c = int(n[2])\n",
    "        d = int(n[3])\n",
    "\n",
    "        # defining operations\n",
    "        def add(a,b): return a + b\n",
    "        def sub(a,b): return a - b\n",
    "        def mul(a,b): return a * b\n",
    "        def div(a,b): return a / b\n",
    "        ops = [add, sub, mul, div]\n",
    "        op_sym = ['+','-','*','/']\n",
    "\n",
    "        # defining all possible configurations\n",
    "        # config1: ((a op b) op c) op d\n",
    "        def config1(i,j,k): return ops[i](ops[j](ops[k](a, b), c), d)\n",
    "        # config2: (a op b) op (c op d)\n",
    "        def config2(i,j,k): return ops[i](ops[j](a, b), ops[k](c, d))\n",
    "        # config3: (a op (b op c)) op d\n",
    "        def config3(i,j,k): return ops[i](ops[j](a, ops[k](b, c)), d)\n",
    "        # config4: a op ((b op c) op d)\n",
    "        def config4(i,j,k): return ops[i](a, ops[j](ops[k](b, c), d))\n",
    "        # config5: a op (b op (c op d))\n",
    "        def config5(i,j,k): return ops[i](a, ops[j](b, ops[k](c, d)))\n",
    "\n",
    "        # defining attributes\n",
    "        self.a = a\n",
    "        self.b = b\n",
    "        self.c = c\n",
    "        self.d = d\n",
    "\n",
    "        # checking all possible configurations by brute force\n",
    "        for i in range(4):\n",
    "            for j in range(4):\n",
    "                for k in range(4):\n",
    "                    if config1(i,j,k) == 10:\n",
    "                        self.n_solns += 1\n",
    "                        self.solns.append(['1', op_sym[i], op_sym[j], op_sym[k]])\n",
    "                    if config2(i,j,k) == 10:\n",
    "                        self.n_solns += 1\n",
    "                        self.solns.append(['2', op_sym[i], op_sym[j], op_sym[k]])\n",
    "                    if config3(i,j,k) == 10:\n",
    "                        self.n_solns += 1\n",
    "                        self.solns.append(['3', op_sym[i], op_sym[j], op_sym[k]])\n",
    "                    if config4(i,j,k) == 10:\n",
    "                        self.n_solns += 1\n",
    "                        self.solns.append(['4', op_sym[i], op_sym[j], op_sym[k]])\n",
    "                    if config5(i,j,k) == 10:\n",
    "                        self.n_solns += 1\n",
    "                        self.solns.append(['5', op_sym[i], op_sym[j], op_sym[k]])\n",
    "        return\n",
    "\n",
    "    def show_solns(self):\n",
    "        \"\"\"Prints the solutions.\"\"\"\n",
    "        for i in range(self.n_solns):\n",
    "            if self.solns[i][0] == '1':\n",
    "                print(f'(({self.a} {self.solns[i][1]} {self.b}) {self.solns[i][2]} {self.c}) {self.solns[i][3]} {self.d} = 10')\n",
    "            elif self.solns[i][0] == '2':\n",
    "                print(f'({self.a} {self.solns[i][1]} {self.b}) {self.solns[i][2]} ({self.c} {self.solns[i][3]} {self.d}) = 10')\n",
    "            elif self.solns[i][0] == '3':\n",
    "                print(f'({self.a} {self.solns[i][1]} ({self.b} {self.solns[i][2]} {self.c})) {self.solns[i][3]} {self.d} = 10')\n",
    "            elif self.solns[i][0] == '4':\n",
    "                print(f'{self.a} {self.solns[i][1]} (({self.b} {self.solns[i][2]} {self.c}) {self.solns[i][3]} {self.d}) = 10')\n",
    "            elif self.solns[i][0] == '5':\n",
    "                print(f'{self.a} {self.solns[i][1]} ({self.b} {self.solns[i][2]} ({self.c} {self.solns[i][3]} {self.d})) = 10')\n",
    "        return"
   ],
   "metadata": {
    "collapsed": false,
    "ExecuteTime": {
     "start_time": "2023-04-09T19:21:03.500581Z",
     "end_time": "2023-04-09T19:21:03.507140Z"
    }
   }
  },
  {
   "cell_type": "code",
   "execution_count": 57,
   "outputs": [
    {
     "name": "stdout",
     "output_type": "stream",
     "text": [
      "8 [['1', '+', '+', '+'], ['2', '+', '+', '+'], ['3', '+', '+', '+'], ['4', '+', '+', '+'], ['5', '+', '+', '+'], ['1', '+', '*', '*'], ['3', '+', '*', '*'], ['4', '*', '+', '*']]\n",
      "((1 + 2) + 3) + 4 = 10\n",
      "(1 + 2) + (3 + 4) = 10\n",
      "(1 + (2 + 3)) + 4 = 10\n",
      "1 + ((2 + 3) + 4) = 10\n",
      "1 + (2 + (3 + 4)) = 10\n",
      "((1 + 2) * 3) * 4 = 10\n",
      "(1 + (2 * 3)) * 4 = 10\n",
      "1 * ((2 + 3) * 4) = 10\n"
     ]
    }
   ],
   "source": [
    "# input = input('Number? ')\n",
    "inpt = '1234'\n",
    "\n",
    "n = Number(inpt)\n",
    "print(n.n_solns,n.solns)\n",
    "n.show_solns()"
   ],
   "metadata": {
    "collapsed": false,
    "ExecuteTime": {
     "start_time": "2023-04-09T19:21:04.377167Z",
     "end_time": "2023-04-09T19:21:04.380859Z"
    }
   }
  },
  {
   "cell_type": "markdown",
   "source": [],
   "metadata": {
    "collapsed": false
   }
  }
 ],
 "metadata": {
  "kernelspec": {
   "display_name": "Python 3",
   "language": "python",
   "name": "python3"
  },
  "language_info": {
   "codemirror_mode": {
    "name": "ipython",
    "version": 2
   },
   "file_extension": ".py",
   "mimetype": "text/x-python",
   "name": "python",
   "nbconvert_exporter": "python",
   "pygments_lexer": "ipython2",
   "version": "2.7.6"
  }
 },
 "nbformat": 4,
 "nbformat_minor": 0
}
